{
 "cells": [
  {
   "cell_type": "markdown",
   "id": "90ddd257",
   "metadata": {},
   "source": [
    "## Purpose"
   ]
  },
  {
   "cell_type": "markdown",
   "id": "1f74b6c1",
   "metadata": {},
   "source": []
  },
  {
   "cell_type": "markdown",
   "id": "06e4d068",
   "metadata": {},
   "source": [
    "### User parameters:"
   ]
  },
  {
   "cell_type": "code",
   "execution_count": 8,
   "id": "0fe6c689",
   "metadata": {},
   "outputs": [],
   "source": [
    "root_dir = 'C:/Users/ssmal/learning/Projects/financial modeling'\n",
    "file_loc = f'{root_dir}/data/cheesco-model.xlsm'\n",
    "actual_dates = ['2016-12-31','2017-12-31','2018-12-31']\n",
    "forecast_dates = ['2019-12-31','2020-12-31','2021-12-31','2022-12-31','2023-12-31']"
   ]
  },
  {
   "cell_type": "markdown",
   "id": "2c6ce1fe",
   "metadata": {},
   "source": [
    "### Python set-up"
   ]
  },
  {
   "cell_type": "code",
   "execution_count": 7,
   "id": "a3ede363",
   "metadata": {},
   "outputs": [],
   "source": [
    "from finModel.statements.main import FinancialStatement\n",
    "from finModel.dcf.valuation import DCFValuation\n",
    "from extract import source_balance, source_income\n",
    "import pandas as pd\n",
    "import numpy as np"
   ]
  },
  {
   "cell_type": "code",
   "execution_count": 9,
   "id": "f287bb32",
   "metadata": {},
   "outputs": [],
   "source": [
    "statement = FinancialStatement(comp=\"Cheese Co.\",\n",
    "                               f_date=forecast_dates,\n",
    "                               inc=source_income(file_loc,actual_dates),\n",
    "                               bs=source_balance(file_loc,actual_dates))"
   ]
  },
  {
   "cell_type": "code",
   "execution_count": 11,
   "id": "9960c9fb",
   "metadata": {},
   "outputs": [],
   "source": [
    "dcf = DCFValuation(wacc=0.1,lt_growth=0.02,a_date=actual_dates,f_date=forecast_dates,fin=statement)"
   ]
  },
  {
   "cell_type": "markdown",
   "id": "9b6b1bac",
   "metadata": {},
   "source": [
    "### 1. Financial statements"
   ]
  },
  {
   "cell_type": "markdown",
   "id": "a65ffa68",
   "metadata": {},
   "source": [
    "#### 1.1: Income statement"
   ]
  },
  {
   "cell_type": "code",
   "execution_count": null,
   "id": "47bba789",
   "metadata": {},
   "outputs": [],
   "source": []
  },
  {
   "cell_type": "markdown",
   "id": "e52664d1",
   "metadata": {},
   "source": [
    "#### 1.2: Balance Sheet"
   ]
  },
  {
   "cell_type": "code",
   "execution_count": null,
   "id": "052d4985",
   "metadata": {},
   "outputs": [],
   "source": []
  },
  {
   "cell_type": "markdown",
   "id": "54e23b22",
   "metadata": {},
   "source": [
    "#### 1.3: Cashflow statement"
   ]
  },
  {
   "cell_type": "code",
   "execution_count": null,
   "id": "6071455e",
   "metadata": {},
   "outputs": [],
   "source": []
  },
  {
   "cell_type": "markdown",
   "id": "fcf25dd6",
   "metadata": {},
   "source": [
    "#### 1.4: DCF valuation"
   ]
  },
  {
   "cell_type": "code",
   "execution_count": null,
   "id": "4c233baa",
   "metadata": {},
   "outputs": [],
   "source": []
  },
  {
   "cell_type": "markdown",
   "id": "e6b23391",
   "metadata": {},
   "source": [
    "### 2. Visualisation"
   ]
  },
  {
   "cell_type": "code",
   "execution_count": null,
   "id": "580bf877",
   "metadata": {},
   "outputs": [],
   "source": []
  }
 ],
 "metadata": {
  "kernelspec": {
   "display_name": "Python 3 (ipykernel)",
   "language": "python",
   "name": "python3"
  },
  "language_info": {
   "codemirror_mode": {
    "name": "ipython",
    "version": 3
   },
   "file_extension": ".py",
   "mimetype": "text/x-python",
   "name": "python",
   "nbconvert_exporter": "python",
   "pygments_lexer": "ipython3",
   "version": "3.9.7"
  }
 },
 "nbformat": 4,
 "nbformat_minor": 5
}
