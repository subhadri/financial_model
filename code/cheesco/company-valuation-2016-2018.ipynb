{
 "cells": [
  {
   "cell_type": "markdown",
   "id": "27d4b91a",
   "metadata": {},
   "source": [
    "## Purpose"
   ]
  },
  {
   "cell_type": "markdown",
   "id": "5218c3b5",
   "metadata": {},
   "source": []
  },
  {
   "cell_type": "markdown",
   "id": "aafbff99",
   "metadata": {},
   "source": [
    "### User parameters:"
   ]
  },
  {
   "cell_type": "code",
   "execution_count": 1,
   "id": "0a0b71e6",
   "metadata": {},
   "outputs": [],
   "source": [
    "root_dir = 'C:/Users/ssmal/learning/Projects/financial modeling'\n",
    "file_loc = f'{root_dir}/data/cheesco-model.xlsm'\n",
    "actual_dates = ['2016-12-31','2017-12-31','2018-12-31']\n",
    "forecast_dates = ['2019-12-31','2020-12-31','2021-12-31','2022-12-31','2023-12-31']"
   ]
  },
  {
   "cell_type": "markdown",
   "id": "b0ce83bf",
   "metadata": {},
   "source": [
    "### Python set-up"
   ]
  },
  {
   "cell_type": "code",
   "execution_count": 2,
   "id": "226d3082",
   "metadata": {},
   "outputs": [],
   "source": [
    "from finModel.analysis.ratios import ebitda_revenue_ratio\n",
    "from finModel.statements.main import FinancialStatement, report_table\n",
    "from finModel.analysis.dcf_valuation import DCFValuation\n",
    "from extract import source_balance, source_income\n",
    "import plotly.express as px\n",
    "import pandas as pd\n",
    "import numpy as np"
   ]
  },
  {
   "cell_type": "code",
   "execution_count": 3,
   "id": "111081b0",
   "metadata": {},
   "outputs": [
    {
     "ename": "TypeError",
     "evalue": "__init__() got an unexpected keyword argument 'revenue'",
     "output_type": "error",
     "traceback": [
      "\u001b[1;31m---------------------------------------------------------------------------\u001b[0m",
      "\u001b[1;31mTypeError\u001b[0m                                 Traceback (most recent call last)",
      "\u001b[1;32m~\\AppData\\Local\\Temp/ipykernel_37668/2595544745.py\u001b[0m in \u001b[0;36m<module>\u001b[1;34m\u001b[0m\n\u001b[1;32m----> 1\u001b[1;33m statement = FinancialStatement(comp=\"Cheese Co.\",\n\u001b[0m\u001b[0;32m      2\u001b[0m                                \u001b[0ma_date\u001b[0m\u001b[1;33m=\u001b[0m\u001b[0mactual_dates\u001b[0m\u001b[1;33m,\u001b[0m\u001b[1;33m\u001b[0m\u001b[1;33m\u001b[0m\u001b[0m\n\u001b[0;32m      3\u001b[0m                                \u001b[0mf_date\u001b[0m\u001b[1;33m=\u001b[0m\u001b[0mforecast_dates\u001b[0m\u001b[1;33m,\u001b[0m\u001b[1;33m\u001b[0m\u001b[1;33m\u001b[0m\u001b[0m\n\u001b[0;32m      4\u001b[0m                                \u001b[0minc\u001b[0m\u001b[1;33m=\u001b[0m\u001b[0msource_income\u001b[0m\u001b[1;33m(\u001b[0m\u001b[0mfile_loc\u001b[0m\u001b[1;33m,\u001b[0m\u001b[0mactual_dates\u001b[0m\u001b[1;33m)\u001b[0m\u001b[1;33m,\u001b[0m\u001b[1;33m\u001b[0m\u001b[1;33m\u001b[0m\u001b[0m\n\u001b[0;32m      5\u001b[0m                                bs=source_balance(file_loc,actual_dates))\n",
      "\u001b[1;32mc:\\users\\ssmal\\learning\\projects\\py-packages\\financial_model\\finModel\\statements\\main.py\u001b[0m in \u001b[0;36m__init__\u001b[1;34m(self, comp, a_date, f_date, inc, bs)\u001b[0m\n\u001b[0;32m     21\u001b[0m         \u001b[0mself\u001b[0m\u001b[1;33m.\u001b[0m\u001b[0mactual_dates\u001b[0m \u001b[1;33m=\u001b[0m \u001b[0ma_date\u001b[0m\u001b[1;33m\u001b[0m\u001b[1;33m\u001b[0m\u001b[0m\n\u001b[0;32m     22\u001b[0m         \u001b[0mself\u001b[0m\u001b[1;33m.\u001b[0m\u001b[0mforecast_dates\u001b[0m \u001b[1;33m=\u001b[0m \u001b[0mf_date\u001b[0m\u001b[1;33m\u001b[0m\u001b[1;33m\u001b[0m\u001b[0m\n\u001b[1;32m---> 23\u001b[1;33m         \u001b[0mf_inc\u001b[0m \u001b[1;33m=\u001b[0m \u001b[0mis_forecast_avg_growth\u001b[0m\u001b[1;33m(\u001b[0m\u001b[0minc\u001b[0m\u001b[1;33m,\u001b[0m\u001b[0mf_date\u001b[0m\u001b[1;33m)\u001b[0m\u001b[1;33m\u001b[0m\u001b[1;33m\u001b[0m\u001b[0m\n\u001b[0m\u001b[0;32m     24\u001b[0m         \u001b[0mf_bs\u001b[0m \u001b[1;33m=\u001b[0m \u001b[0mbs_forecast_avg_growth\u001b[0m\u001b[1;33m(\u001b[0m\u001b[0mbs\u001b[0m\u001b[1;33m,\u001b[0m\u001b[0minc\u001b[0m\u001b[1;33m,\u001b[0m\u001b[0mf_inc\u001b[0m\u001b[1;33m,\u001b[0m\u001b[0mf_date\u001b[0m\u001b[1;33m)\u001b[0m\u001b[1;33m\u001b[0m\u001b[1;33m\u001b[0m\u001b[0m\n\u001b[0;32m     25\u001b[0m         \u001b[0mself\u001b[0m\u001b[1;33m.\u001b[0m\u001b[0mincome\u001b[0m \u001b[1;33m=\u001b[0m \u001b[0minc\u001b[0m\u001b[1;33m.\u001b[0m\u001b[0mattach\u001b[0m\u001b[1;33m(\u001b[0m\u001b[0mf_inc\u001b[0m\u001b[1;33m)\u001b[0m\u001b[1;33m\u001b[0m\u001b[1;33m\u001b[0m\u001b[0m\n",
      "\u001b[1;32mc:\\users\\ssmal\\learning\\projects\\py-packages\\financial_model\\finModel\\statements\\forecast.py\u001b[0m in \u001b[0;36mis_forecast_avg_growth\u001b[1;34m(inc, f_date)\u001b[0m\n\u001b[0;32m     35\u001b[0m     \u001b[1;31m# Initialise the forecasted instance\u001b[0m\u001b[1;33m\u001b[0m\u001b[1;33m\u001b[0m\u001b[0m\n\u001b[0;32m     36\u001b[0m     forecasted = IncomeStatement(\n\u001b[1;32m---> 37\u001b[1;33m         \u001b[0mrevenue\u001b[0m\u001b[1;33m=\u001b[0m\u001b[0mRevenue\u001b[0m\u001b[1;33m(\u001b[0m\u001b[0mrevenue\u001b[0m\u001b[1;33m=\u001b[0m\u001b[0mf_revenue\u001b[0m\u001b[1;33m,\u001b[0m \u001b[0mother_revenue\u001b[0m\u001b[1;33m=\u001b[0m\u001b[0mconst_growth\u001b[0m\u001b[1;33m(\u001b[0m\u001b[0minc\u001b[0m\u001b[1;33m.\u001b[0m\u001b[0mrevenue\u001b[0m\u001b[1;33m.\u001b[0m\u001b[0mother_revenue\u001b[0m\u001b[1;33m,\u001b[0m\u001b[1;36m0.0\u001b[0m\u001b[1;33m,\u001b[0m\u001b[0mf_date\u001b[0m\u001b[1;33m)\u001b[0m\u001b[1;33m)\u001b[0m\u001b[1;33m,\u001b[0m\u001b[1;33m\u001b[0m\u001b[1;33m\u001b[0m\u001b[0m\n\u001b[0m\u001b[0;32m     38\u001b[0m         cogs=COGS(\n\u001b[0;32m     39\u001b[0m             \u001b[0mraw_material\u001b[0m\u001b[1;33m=\u001b[0m\u001b[0mconst_pandas_series\u001b[0m\u001b[1;33m(\u001b[0m\u001b[0minc\u001b[0m\u001b[1;33m.\u001b[0m\u001b[0mcogs\u001b[0m\u001b[1;33m.\u001b[0m\u001b[0mcogs\u001b[0m\u001b[1;33m.\u001b[0m\u001b[0mname\u001b[0m\u001b[1;33m,\u001b[0m\u001b[0mf_date\u001b[0m\u001b[1;33m)\u001b[0m\u001b[1;33m,\u001b[0m\u001b[1;33m\u001b[0m\u001b[1;33m\u001b[0m\u001b[0m\n",
      "\u001b[1;31mTypeError\u001b[0m: __init__() got an unexpected keyword argument 'revenue'"
     ]
    }
   ],
   "source": [
    "statement = FinancialStatement(comp=\"Cheese Co.\",\n",
    "                               a_date=actual_dates,\n",
    "                               f_date=forecast_dates,\n",
    "                               inc=source_income(file_loc,actual_dates),\n",
    "                               bs=source_balance(file_loc,actual_dates))"
   ]
  },
  {
   "cell_type": "code",
   "execution_count": null,
   "id": "3e03cf0f",
   "metadata": {},
   "outputs": [],
   "source": [
    "dcf = DCFValuation(wacc=0.1,lt_growth=0.02,fin=statement)"
   ]
  },
  {
   "cell_type": "markdown",
   "id": "f9ea36a6",
   "metadata": {},
   "source": [
    "### 1. Financial statements"
   ]
  },
  {
   "cell_type": "markdown",
   "id": "ed98d547",
   "metadata": {},
   "source": [
    "#### 1.1: Income statement"
   ]
  },
  {
   "cell_type": "code",
   "execution_count": null,
   "id": "578755dd",
   "metadata": {},
   "outputs": [],
   "source": [
    "report_table(statement.income,statement.forecast_dates)"
   ]
  },
  {
   "cell_type": "markdown",
   "id": "d5ce9a16",
   "metadata": {},
   "source": [
    "#### 1.2: Balance Sheet"
   ]
  },
  {
   "cell_type": "code",
   "execution_count": null,
   "id": "7171182c",
   "metadata": {},
   "outputs": [],
   "source": [
    "report_table(statement.balance,statement.forecast_dates)"
   ]
  },
  {
   "cell_type": "markdown",
   "id": "bda01996",
   "metadata": {},
   "source": [
    "#### 1.3: Cashflow statement"
   ]
  },
  {
   "cell_type": "code",
   "execution_count": null,
   "id": "36d459ea",
   "metadata": {},
   "outputs": [],
   "source": [
    "report_table(statement.cash,statement.forecast_dates)"
   ]
  },
  {
   "cell_type": "markdown",
   "id": "e64ca5ba",
   "metadata": {},
   "source": [
    "#### 1.4: DCF valuation"
   ]
  },
  {
   "cell_type": "code",
   "execution_count": null,
   "id": "a34dd8f8",
   "metadata": {},
   "outputs": [],
   "source": [
    "dcf.to_pandas_df()"
   ]
  },
  {
   "cell_type": "markdown",
   "id": "af07a046",
   "metadata": {},
   "source": [
    "### 2. Visualisation"
   ]
  },
  {
   "cell_type": "markdown",
   "id": "22a016dd",
   "metadata": {},
   "source": [
    "#### 2.1: Revenues and EBITDA"
   ]
  },
  {
   "cell_type": "code",
   "execution_count": null,
   "id": "69e28439",
   "metadata": {},
   "outputs": [],
   "source": [
    "fig = px.bar(data_frame=ebitda_revenue_ratio(statement.income),x=\"period\",y=\"Revenues\")\n",
    "fig.show()"
   ]
  },
  {
   "cell_type": "code",
   "execution_count": null,
   "id": "3860b0a8",
   "metadata": {},
   "outputs": [],
   "source": []
  }
 ],
 "metadata": {
  "kernelspec": {
   "display_name": "Python 3 (ipykernel)",
   "language": "python",
   "name": "python3"
  },
  "language_info": {
   "codemirror_mode": {
    "name": "ipython",
    "version": 3
   },
   "file_extension": ".py",
   "mimetype": "text/x-python",
   "name": "python",
   "nbconvert_exporter": "python",
   "pygments_lexer": "ipython3",
   "version": "3.9.7"
  }
 },
 "nbformat": 4,
 "nbformat_minor": 5
}
